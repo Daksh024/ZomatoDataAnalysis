{
 "cells": [
  {
   "cell_type": "markdown",
   "id": "d58f703a",
   "metadata": {},
   "source": [
    "# Exploratory Data Analysis.\n",
    "## Zomato Dataset\n",
    "---\n",
    "**https://www.kaggle.com/datasets/narsingraogoud/zomato-restaurants-dataset-for-metropolitan-areas?select=zomato_dataset.csv**\n",
    "\n"
   ]
  },
  {
   "cell_type": "markdown",
   "id": "a8a11647",
   "metadata": {},
   "source": [
    "**Importing Libraries**"
   ]
  },
  {
   "cell_type": "code",
   "execution_count": 114,
   "id": "f8f9ada1",
   "metadata": {},
   "outputs": [],
   "source": [
    "import pandas as pd\n",
    "import numpy as np\n",
    "import matplotlib.pyplot as plt\n",
    "\n",
    "import seaborn as sns"
   ]
  },
  {
   "cell_type": "code",
   "execution_count": 2,
   "id": "7d6038aa",
   "metadata": {},
   "outputs": [],
   "source": [
    "FILE_PATH = \"./zomato_dataset.csv\""
   ]
  },
  {
   "cell_type": "markdown",
   "id": "cf8402de",
   "metadata": {},
   "source": [
    "**Reading the dataset**"
   ]
  },
  {
   "cell_type": "code",
   "execution_count": 3,
   "id": "06b88e35",
   "metadata": {},
   "outputs": [
    {
     "data": {
      "text/html": [
       "<div>\n",
       "<style scoped>\n",
       "    .dataframe tbody tr th:only-of-type {\n",
       "        vertical-align: middle;\n",
       "    }\n",
       "\n",
       "    .dataframe tbody tr th {\n",
       "        vertical-align: top;\n",
       "    }\n",
       "\n",
       "    .dataframe thead th {\n",
       "        text-align: right;\n",
       "    }\n",
       "</style>\n",
       "<table border=\"1\" class=\"dataframe\">\n",
       "  <thead>\n",
       "    <tr style=\"text-align: right;\">\n",
       "      <th></th>\n",
       "      <th>Restaurant Name</th>\n",
       "      <th>Dining Rating</th>\n",
       "      <th>Delivery Rating</th>\n",
       "      <th>Dining Votes</th>\n",
       "      <th>Delivery Votes</th>\n",
       "      <th>Cuisine</th>\n",
       "      <th>Place Name</th>\n",
       "      <th>City</th>\n",
       "      <th>Item Name</th>\n",
       "      <th>Best Seller</th>\n",
       "      <th>Votes</th>\n",
       "      <th>Prices</th>\n",
       "    </tr>\n",
       "  </thead>\n",
       "  <tbody>\n",
       "    <tr>\n",
       "      <th>0</th>\n",
       "      <td>Doner King</td>\n",
       "      <td>3.9</td>\n",
       "      <td>4.2</td>\n",
       "      <td>39</td>\n",
       "      <td>0</td>\n",
       "      <td>Fast Food</td>\n",
       "      <td>Malakpet</td>\n",
       "      <td>Hyderabad</td>\n",
       "      <td>Platter Kebab Combo</td>\n",
       "      <td>BESTSELLER</td>\n",
       "      <td>84</td>\n",
       "      <td>249.0</td>\n",
       "    </tr>\n",
       "    <tr>\n",
       "      <th>1</th>\n",
       "      <td>Doner King</td>\n",
       "      <td>3.9</td>\n",
       "      <td>4.2</td>\n",
       "      <td>39</td>\n",
       "      <td>0</td>\n",
       "      <td>Fast Food</td>\n",
       "      <td>Malakpet</td>\n",
       "      <td>Hyderabad</td>\n",
       "      <td>Chicken Rumali Shawarma</td>\n",
       "      <td>BESTSELLER</td>\n",
       "      <td>45</td>\n",
       "      <td>129.0</td>\n",
       "    </tr>\n",
       "    <tr>\n",
       "      <th>2</th>\n",
       "      <td>Doner King</td>\n",
       "      <td>3.9</td>\n",
       "      <td>4.2</td>\n",
       "      <td>39</td>\n",
       "      <td>0</td>\n",
       "      <td>Fast Food</td>\n",
       "      <td>Malakpet</td>\n",
       "      <td>Hyderabad</td>\n",
       "      <td>Chicken Tandoori Salad</td>\n",
       "      <td>NaN</td>\n",
       "      <td>39</td>\n",
       "      <td>189.0</td>\n",
       "    </tr>\n",
       "    <tr>\n",
       "      <th>3</th>\n",
       "      <td>Doner King</td>\n",
       "      <td>3.9</td>\n",
       "      <td>4.2</td>\n",
       "      <td>39</td>\n",
       "      <td>0</td>\n",
       "      <td>Fast Food</td>\n",
       "      <td>Malakpet</td>\n",
       "      <td>Hyderabad</td>\n",
       "      <td>Chicken BBQ Salad</td>\n",
       "      <td>BESTSELLER</td>\n",
       "      <td>43</td>\n",
       "      <td>189.0</td>\n",
       "    </tr>\n",
       "    <tr>\n",
       "      <th>4</th>\n",
       "      <td>Doner King</td>\n",
       "      <td>3.9</td>\n",
       "      <td>4.2</td>\n",
       "      <td>39</td>\n",
       "      <td>0</td>\n",
       "      <td>Fast Food</td>\n",
       "      <td>Malakpet</td>\n",
       "      <td>Hyderabad</td>\n",
       "      <td>Special Doner Wrap Combo</td>\n",
       "      <td>MUST TRY</td>\n",
       "      <td>31</td>\n",
       "      <td>205.0</td>\n",
       "    </tr>\n",
       "  </tbody>\n",
       "</table>\n",
       "</div>"
      ],
      "text/plain": [
       "  Restaurant Name  Dining Rating  Delivery Rating  Dining Votes  \\\n",
       "0      Doner King            3.9              4.2            39   \n",
       "1      Doner King            3.9              4.2            39   \n",
       "2      Doner King            3.9              4.2            39   \n",
       "3      Doner King            3.9              4.2            39   \n",
       "4      Doner King            3.9              4.2            39   \n",
       "\n",
       "   Delivery Votes   Cuisine  Place Name        City                 Item Name  \\\n",
       "0               0  Fast Food   Malakpet   Hyderabad       Platter Kebab Combo   \n",
       "1               0  Fast Food   Malakpet   Hyderabad   Chicken Rumali Shawarma   \n",
       "2               0  Fast Food   Malakpet   Hyderabad    Chicken Tandoori Salad   \n",
       "3               0  Fast Food   Malakpet   Hyderabad         Chicken BBQ Salad   \n",
       "4               0  Fast Food   Malakpet   Hyderabad  Special Doner Wrap Combo   \n",
       "\n",
       "  Best Seller  Votes  Prices  \n",
       "0  BESTSELLER     84   249.0  \n",
       "1  BESTSELLER     45   129.0  \n",
       "2         NaN     39   189.0  \n",
       "3  BESTSELLER     43   189.0  \n",
       "4    MUST TRY     31   205.0  "
      ]
     },
     "execution_count": 3,
     "metadata": {},
     "output_type": "execute_result"
    }
   ],
   "source": [
    "zomato_df = pd.read_csv(FILE_PATH)\n",
    "zomato_df.head()"
   ]
  },
  {
   "cell_type": "code",
   "execution_count": 4,
   "id": "55dd32c6",
   "metadata": {},
   "outputs": [
    {
     "name": "stdout",
     "output_type": "stream",
     "text": [
      "<class 'pandas.core.frame.DataFrame'>\n",
      "RangeIndex: 123657 entries, 0 to 123656\n",
      "Data columns (total 12 columns):\n",
      " #   Column           Non-Null Count   Dtype  \n",
      "---  ------           --------------   -----  \n",
      " 0   Restaurant Name  123657 non-null  object \n",
      " 1   Dining Rating    91421 non-null   float64\n",
      " 2   Delivery Rating  122377 non-null  float64\n",
      " 3   Dining Votes     123657 non-null  int64  \n",
      " 4   Delivery Votes   123657 non-null  int64  \n",
      " 5   Cuisine          123657 non-null  object \n",
      " 6   Place Name       123657 non-null  object \n",
      " 7   City             123657 non-null  object \n",
      " 8   Item Name        123657 non-null  object \n",
      " 9   Best Seller      27942 non-null   object \n",
      " 10  Votes            123657 non-null  int64  \n",
      " 11  Prices           123657 non-null  float64\n",
      "dtypes: float64(3), int64(3), object(6)\n",
      "memory usage: 11.3+ MB\n"
     ]
    }
   ],
   "source": [
    "zomato_df.info()"
   ]
  },
  {
   "cell_type": "code",
   "execution_count": 5,
   "id": "215b0b69",
   "metadata": {},
   "outputs": [
    {
     "data": {
      "text/plain": [
       "Restaurant Name      826\n",
       "Dining Rating         24\n",
       "Delivery Rating       18\n",
       "Dining Votes         294\n",
       "Delivery Votes       263\n",
       "Cuisine               48\n",
       "Place Name           324\n",
       "City                  17\n",
       "Item Name          55693\n",
       "Best Seller           13\n",
       "Votes                760\n",
       "Prices              2710\n",
       "dtype: int64"
      ]
     },
     "execution_count": 5,
     "metadata": {},
     "output_type": "execute_result"
    }
   ],
   "source": [
    "# Unique Values for each columns\n",
    "zomato_df.nunique()"
   ]
  },
  {
   "cell_type": "code",
   "execution_count": 6,
   "id": "ae4b4d1d",
   "metadata": {},
   "outputs": [
    {
     "data": {
      "text/plain": [
       "True"
      ]
     },
     "execution_count": 6,
     "metadata": {},
     "output_type": "execute_result"
    }
   ],
   "source": [
    "# check for Nan values.\n",
    "zomato_df.isnull().values.any()"
   ]
  },
  {
   "cell_type": "markdown",
   "id": "b0769873",
   "metadata": {},
   "source": [
    "**Checking for null values in the each columns**"
   ]
  },
  {
   "cell_type": "code",
   "execution_count": 7,
   "id": "882b187f",
   "metadata": {},
   "outputs": [
    {
     "name": "stdout",
     "output_type": "stream",
     "text": [
      "Column - Restaurant Name has 0 null values.\n",
      " --------------------------------------------------\n",
      "Column - Dining Rating has 32236 null values.\n",
      " --------------------------------------------------\n",
      "Column - Delivery Rating has 1280 null values.\n",
      " --------------------------------------------------\n",
      "Column - Dining Votes has 0 null values.\n",
      " --------------------------------------------------\n",
      "Column - Delivery Votes has 0 null values.\n",
      " --------------------------------------------------\n",
      "Column - Cuisine  has 0 null values.\n",
      " --------------------------------------------------\n",
      "Column - Place Name has 0 null values.\n",
      " --------------------------------------------------\n",
      "Column - City has 0 null values.\n",
      " --------------------------------------------------\n",
      "Column - Item Name has 0 null values.\n",
      " --------------------------------------------------\n",
      "Column - Best Seller has 95715 null values.\n",
      " --------------------------------------------------\n",
      "Column - Votes has 0 null values.\n",
      " --------------------------------------------------\n",
      "Column - Prices has 0 null values.\n",
      " --------------------------------------------------\n"
     ]
    }
   ],
   "source": [
    "for col in zomato_df.columns:\n",
    "    print(\"Column - {} has {} null values.\\n\"\n",
    "          .format(col,zomato_df[col].isnull().sum()),\"-\"*50)"
   ]
  },
  {
   "cell_type": "markdown",
   "id": "f0bbdc0b",
   "metadata": {},
   "source": [
    "### Analysis on the a City "
   ]
  },
  {
   "cell_type": "code",
   "execution_count": 16,
   "id": "452e0eb1",
   "metadata": {},
   "outputs": [
    {
     "name": "stdout",
     "output_type": "stream",
     "text": [
      "1.  Hyderabad.\n",
      "2.  Mumbai.\n",
      "3.  Chennai.\n",
      "4.  Pune.\n",
      "5.  Jaipur.\n",
      "6.  Kochi.\n",
      "7.  Goa.\n",
      "8.  Bangalore.\n",
      "9.  Kolkata.\n",
      "10.  Ahmedabad.\n",
      "11.  Banaswadi.\n",
      "12.  Ulsoor.\n",
      "13.  Malleshwaram.\n",
      "14.  Magrath Road.\n",
      "15.  Lucknow.\n",
      "16.  New Delhi.\n",
      "17.  Raipur.\n"
     ]
    }
   ],
   "source": [
    "# lets check for which cities are available in the dataset\n",
    "\n",
    "cities = zomato_df['City'].unique()\n",
    "for i,city in enumerate(cities):\n",
    "    print(\"{}. {}.\".format(i+1,city))"
   ]
  },
  {
   "cell_type": "markdown",
   "id": "b10286f7",
   "metadata": {},
   "source": [
    "<strong>Lets do the analysis for Goa,\n",
    "As this place is most visited for parties and who likes parties without drinks and food.</strong>"
   ]
  },
  {
   "cell_type": "markdown",
   "id": "be1454ad",
   "metadata": {},
   "source": [
    "## GOA"
   ]
  },
  {
   "cell_type": "code",
   "execution_count": 94,
   "id": "44394ab4",
   "metadata": {},
   "outputs": [
    {
     "data": {
      "text/html": [
       "<div>\n",
       "<style scoped>\n",
       "    .dataframe tbody tr th:only-of-type {\n",
       "        vertical-align: middle;\n",
       "    }\n",
       "\n",
       "    .dataframe tbody tr th {\n",
       "        vertical-align: top;\n",
       "    }\n",
       "\n",
       "    .dataframe thead th {\n",
       "        text-align: right;\n",
       "    }\n",
       "</style>\n",
       "<table border=\"1\" class=\"dataframe\">\n",
       "  <thead>\n",
       "    <tr style=\"text-align: right;\">\n",
       "      <th></th>\n",
       "      <th>Restaurant Name</th>\n",
       "      <th>Dining Rating</th>\n",
       "      <th>Item Name</th>\n",
       "      <th>Prices</th>\n",
       "    </tr>\n",
       "  </thead>\n",
       "  <tbody>\n",
       "    <tr>\n",
       "      <th>63090</th>\n",
       "      <td>Ritz Classic</td>\n",
       "      <td>4.4</td>\n",
       "      <td>Prawns Biryani</td>\n",
       "      <td>480.0</td>\n",
       "    </tr>\n",
       "    <tr>\n",
       "      <th>63091</th>\n",
       "      <td>Ritz Classic</td>\n",
       "      <td>4.4</td>\n",
       "      <td>Kingfish Rava Fry [2 Pieces]</td>\n",
       "      <td>650.0</td>\n",
       "    </tr>\n",
       "    <tr>\n",
       "      <th>63092</th>\n",
       "      <td>Ritz Classic</td>\n",
       "      <td>4.4</td>\n",
       "      <td>Chicken Hyderabadi Biryani</td>\n",
       "      <td>350.0</td>\n",
       "    </tr>\n",
       "    <tr>\n",
       "      <th>63093</th>\n",
       "      <td>Ritz Classic</td>\n",
       "      <td>4.4</td>\n",
       "      <td>Chonak Masala Fry [2 Pieces]</td>\n",
       "      <td>650.0</td>\n",
       "    </tr>\n",
       "    <tr>\n",
       "      <th>63094</th>\n",
       "      <td>Ritz Classic</td>\n",
       "      <td>4.4</td>\n",
       "      <td>Crab Tandoori</td>\n",
       "      <td>610.0</td>\n",
       "    </tr>\n",
       "    <tr>\n",
       "      <th>...</th>\n",
       "      <td>...</td>\n",
       "      <td>...</td>\n",
       "      <td>...</td>\n",
       "      <td>...</td>\n",
       "    </tr>\n",
       "    <tr>\n",
       "      <th>65064</th>\n",
       "      <td>Shivam Classic</td>\n",
       "      <td>NaN</td>\n",
       "      <td>Tomato Raita</td>\n",
       "      <td>90.0</td>\n",
       "    </tr>\n",
       "    <tr>\n",
       "      <th>65065</th>\n",
       "      <td>Shivam Classic</td>\n",
       "      <td>NaN</td>\n",
       "      <td>Aloo Raita</td>\n",
       "      <td>90.0</td>\n",
       "    </tr>\n",
       "    <tr>\n",
       "      <th>65066</th>\n",
       "      <td>Shivam Classic</td>\n",
       "      <td>NaN</td>\n",
       "      <td>Green Salad</td>\n",
       "      <td>90.0</td>\n",
       "    </tr>\n",
       "    <tr>\n",
       "      <th>65067</th>\n",
       "      <td>Shivam Classic</td>\n",
       "      <td>NaN</td>\n",
       "      <td>Masala Papad</td>\n",
       "      <td>70.0</td>\n",
       "    </tr>\n",
       "    <tr>\n",
       "      <th>65068</th>\n",
       "      <td>Shivam Classic</td>\n",
       "      <td>NaN</td>\n",
       "      <td>Mirchi [1 Plate]</td>\n",
       "      <td>20.0</td>\n",
       "    </tr>\n",
       "  </tbody>\n",
       "</table>\n",
       "<p>592 rows × 4 columns</p>\n",
       "</div>"
      ],
      "text/plain": [
       "      Restaurant Name  Dining Rating                     Item Name  Prices\n",
       "63090    Ritz Classic            4.4                Prawns Biryani   480.0\n",
       "63091    Ritz Classic            4.4  Kingfish Rava Fry [2 Pieces]   650.0\n",
       "63092    Ritz Classic            4.4    Chicken Hyderabadi Biryani   350.0\n",
       "63093    Ritz Classic            4.4  Chonak Masala Fry [2 Pieces]   650.0\n",
       "63094    Ritz Classic            4.4                 Crab Tandoori   610.0\n",
       "...               ...            ...                           ...     ...\n",
       "65064  Shivam Classic            NaN                  Tomato Raita    90.0\n",
       "65065  Shivam Classic            NaN                    Aloo Raita    90.0\n",
       "65066  Shivam Classic            NaN                   Green Salad    90.0\n",
       "65067  Shivam Classic            NaN                  Masala Papad    70.0\n",
       "65068  Shivam Classic            NaN              Mirchi [1 Plate]    20.0\n",
       "\n",
       "[592 rows x 4 columns]"
      ]
     },
     "execution_count": 94,
     "metadata": {},
     "output_type": "execute_result"
    }
   ],
   "source": [
    "goa = zomato_df['City'] == ' Goa'\n",
    "drinks = zomato_df[goa]['Cuisine '] == \"Beverages\"\n",
    "zomato_df[goa][drinks][[\"Restaurant Name\",\"Dining Rating\",\"Item Name\",\"Prices\"]]"
   ]
  },
  {
   "cell_type": "markdown",
   "id": "de182f17",
   "metadata": {},
   "source": [
    "**1. Which resturants deliver in goa with Delivery Rating more than 3.8?**"
   ]
  },
  {
   "cell_type": "code",
   "execution_count": 210,
   "id": "08372a68",
   "metadata": {
    "scrolled": false
   },
   "outputs": [
    {
     "data": {
      "text/html": [
       "<div>\n",
       "<style scoped>\n",
       "    .dataframe tbody tr th:only-of-type {\n",
       "        vertical-align: middle;\n",
       "    }\n",
       "\n",
       "    .dataframe tbody tr th {\n",
       "        vertical-align: top;\n",
       "    }\n",
       "\n",
       "    .dataframe thead th {\n",
       "        text-align: right;\n",
       "    }\n",
       "</style>\n",
       "<table border=\"1\" class=\"dataframe\">\n",
       "  <thead>\n",
       "    <tr style=\"text-align: right;\">\n",
       "      <th></th>\n",
       "      <th>Item Name</th>\n",
       "      <th>Delivery Rating</th>\n",
       "      <th>Dining Rating</th>\n",
       "    </tr>\n",
       "    <tr>\n",
       "      <th>Restaurant Name</th>\n",
       "      <th></th>\n",
       "      <th></th>\n",
       "      <th></th>\n",
       "    </tr>\n",
       "  </thead>\n",
       "  <tbody>\n",
       "    <tr>\n",
       "      <th>Ritz Classic</th>\n",
       "      <td>Prawns Biryani</td>\n",
       "      <td>4.1</td>\n",
       "      <td>4.4</td>\n",
       "    </tr>\n",
       "    <tr>\n",
       "      <th>Cafe Central</th>\n",
       "      <td>Date and Walnut Cake [500 grams]</td>\n",
       "      <td>4.0</td>\n",
       "      <td>3.9</td>\n",
       "    </tr>\n",
       "    <tr>\n",
       "      <th>The Royal Ruchik</th>\n",
       "      <td>Prawn Rawa Fry</td>\n",
       "      <td>4.2</td>\n",
       "      <td>3.6</td>\n",
       "    </tr>\n",
       "  </tbody>\n",
       "</table>\n",
       "</div>"
      ],
      "text/plain": [
       "                                         Item Name  Delivery Rating  \\\n",
       "Restaurant Name                                                       \n",
       "Ritz Classic                        Prawns Biryani              4.1   \n",
       "Cafe Central      Date and Walnut Cake [500 grams]              4.0   \n",
       "The Royal Ruchik                    Prawn Rawa Fry              4.2   \n",
       "\n",
       "                  Dining Rating  \n",
       "Restaurant Name                  \n",
       "Ritz Classic                4.4  \n",
       "Cafe Central                3.9  \n",
       "The Royal Ruchik            3.6  "
      ]
     },
     "execution_count": 210,
     "metadata": {},
     "output_type": "execute_result"
    }
   ],
   "source": [
    "# filter by Delivery Rating groupby Restaurant Name and then show Item Name\n",
    "\n",
    "delivery_rating = zomato_df[goa]['Delivery Rating'] >= 3.8\n",
    "\n",
    "data = zomato_df[goa][delivery_rating].groupby(\"Restaurant Name\").first()\\\n",
    ".sort_values(by=\"Dining Rating\",ascending=False)[[\"Item Name\",\"Delivery Rating\",\"Dining Rating\"]].dropna()\n",
    "\n",
    "data"
   ]
  },
  {
   "cell_type": "code",
   "execution_count": 215,
   "id": "932804c7",
   "metadata": {
    "scrolled": false
   },
   "outputs": [
    {
     "data": {
      "image/png": "[encoded data removed]",
      "text/plain": [
       "<Figure size 640x480 with 1 Axes>"
      ]
     },
     "metadata": {},
     "output_type": "display_data"
    }
   ],
   "source": [
    "plot = sns.barplot(data, \n",
    "            x=data.index, \n",
    "            y=\"Delivery Rating\")\n",
    "plot.set(title='Restaurants in Goa with Dining Rating above 3.8')\n",
    "plot = plot.set_xticklabels(plot.get_xticklabels(), rotation=30);"
   ]
  },
  {
   "cell_type": "code",
   "execution_count": 217,
   "id": "409165e3",
   "metadata": {},
   "outputs": [],
   "source": [
    "# plt.figure(figsize=(8,6))\n",
    "# data.plot(kind = \"bar\",\n",
    "#           color = \"lightgray\",\n",
    "#           edgecolor = \"black\")\n",
    "\n",
    "# plt.xlabel('Restaurant Name')\n",
    "# plt.ylabel('Delivery Rating')\n",
    "# plt.title('Restaurants in Goa with Dining Rating above 3.8')\n",
    "\n",
    "# plt.xticks(rotation=30)\n",
    "\n",
    "# # bar_width = 0.5\n",
    "\n",
    "# for i,v in enumerate(data):\n",
    "#     plt.text(i, v+10, str(v), ha='center', va='bottom')\n",
    "    \n",
    "# plt.tight_layout()\n",
    "# plt.show()"
   ]
  },
  {
   "cell_type": "markdown",
   "id": "a631d06b",
   "metadata": {},
   "source": [
    "**2. I'm a food blogger and wanted to have every Chicken cuisine in India, so analyzed the data with price city and which restaurant it  belongs to.**"
   ]
  },
  {
   "cell_type": "code",
   "execution_count": null,
   "id": "6a57fb6b",
   "metadata": {},
   "outputs": [],
   "source": []
  }
 ],
 "metadata": {
  "kernelspec": {
   "display_name": "Python 3 (ipykernel)",
   "language": "python",
   "name": "python3"
  },
  "language_info": {
   "codemirror_mode": {
    "name": "ipython",
    "version": 3
   },
   "file_extension": ".py",
   "mimetype": "text/x-python",
   "name": "python",
   "nbconvert_exporter": "python",
   "pygments_lexer": "ipython3",
   "version": "3.9.12"
  }
 },
 "nbformat": 4,
 "nbformat_minor": 5
}
